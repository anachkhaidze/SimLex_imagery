{
 "cells": [
  {
   "cell_type": "code",
   "execution_count": 40,
   "id": "299a784f",
   "metadata": {
    "scrolled": true
   },
   "outputs": [],
   "source": [
    "import pandas as pd\n",
    "import os\n",
    "import json\n"
   ]
  },
  {
   "cell_type": "code",
   "execution_count": null,
   "id": "9bf87ea0",
   "metadata": {},
   "outputs": [],
   "source": [
    "# Set the display options to show all columns\n",
    "pd.set_option('display.max_columns', None)\n",
    "# Set to display all rows if you also want to see all rows\n",
    "pd.set_option('display.max_rows', None)"
   ]
  },
  {
   "cell_type": "code",
   "execution_count": 90,
   "id": "4c2d9aaf",
   "metadata": {},
   "outputs": [],
   "source": [
    "# Load the data\n",
    "file_path = '/SimLex_imagery/data/list_8_test.xlsx'\n",
    "data = pd.read_excel(file_path)"
   ]
  },
  {
   "cell_type": "code",
   "execution_count": 91,
   "id": "e0a117a9",
   "metadata": {},
   "outputs": [],
   "source": [
    "# Remove empty columns\n",
    "columns_to_remove = ['rt', 'stimulus', 'response', 'trial_type', 'trial_index', 'time_elapsed', 'internal_node_id']\n",
    "data.drop(columns_to_remove, axis=1, inplace=True)"
   ]
  },
  {
   "cell_type": "code",
   "execution_count": 92,
   "id": "a73b5a37",
   "metadata": {},
   "outputs": [],
   "source": [
    "# Remove \"Choose_\" prefix from the \"stim\" column where attentioncheck=2\n",
    "data.loc[data['attentioncheck'] == 2, 'stim'] = data[data['attentioncheck'] == 2]['stim'].str.replace('Choose_', '')"
   ]
  },
  {
   "cell_type": "code",
   "execution_count": 93,
   "id": "9ad646a7",
   "metadata": {},
   "outputs": [],
   "source": [
    "# Create a column called attention_accuracy\n",
    "# Initialize the column with NaNs\n",
    "data['attention_accuracy'] = pd.NA"
   ]
  },
  {
   "cell_type": "code",
   "execution_count": 94,
   "id": "dc55a8c4",
   "metadata": {},
   "outputs": [],
   "source": [
    "# Set attention_accuracy to 0 for attentioncheck=1 and value (participant's response) != 6\n",
    "data.loc[(data['attentioncheck'] == 1) & (data['value'] != 6), 'attention_accuracy'] = 0"
   ]
  },
  {
   "cell_type": "code",
   "execution_count": 95,
   "id": "2e0bfcb4",
   "metadata": {},
   "outputs": [],
   "source": [
    "# Set attention_accuracy to 0 for attentioncheck=2 and value != stim\n",
    "# Convert 'stim' column to numeric to make a valid comparison\n",
    "data['stim'] = pd.to_numeric(data['stim'], errors='coerce')\n",
    "data.loc[(data['attentioncheck'] == 2) & (data['value'] != data['stim']), 'attention_accuracy'] = 0"
   ]
  },
  {
   "cell_type": "code",
   "execution_count": 54,
   "id": "3c9bf5eb",
   "metadata": {},
   "outputs": [],
   "source": [
    "import os\n",
    "import json\n",
    "import pandas as pd\n",
    "\n",
    "path = 'D:\\\\kiyonaga\\\\SimLex_imagery\\\\data'\n",
    "combine_data = []\n",
    "for file in os.listdir(path):\n",
    "    with open(os.path.join(path, file), 'r') as f:\n",
    "        data = json.load(f)\n",
    "        combine_data.extend(data['filedata'])\n",
    "df = pd.DataFrame(combine_data)\n",
    "df['attention_accuracy'] = pd.NA\n",
    "df['stim'] = df['stim'].str.replace('Choose_', '')\n",
    "df.drop(['rt', 'stimulus', 'response', 'trial_type', 'trial_index', 'time_elapsed', 'internal_node_id'], axis=1, inplace=True)\n",
    "\n",
    "df.loc[(df['attentioncheck'] == '1') & (df['value'] != '6'), 'attention_accuracy'] = 0\n",
    "df.loc[(df['attentioncheck'] == '1') & (df['value'] == '6'), 'attention_accuracy'] = 1\n",
    "\n",
    "df.loc[(df['attentioncheck'] == '2') & (df['value'] != df['stim']), 'attention_accuracy'] = 0\n",
    "df.loc[(df['attentioncheck'] == '2') & (df['value'] == df['stim']), 'attention_accuracy'] = 1\n",
    "\n"
   ]
  },
  {
   "cell_type": "code",
   "execution_count": 55,
   "id": "34892928",
   "metadata": {},
   "outputs": [],
   "source": []
  }
 ],
 "metadata": {
  "kernelspec": {
   "display_name": "Python 3 (ipykernel)",
   "language": "python",
   "name": "python3"
  },
  "language_info": {
   "codemirror_mode": {
    "name": "ipython",
    "version": 3
   },
   "file_extension": ".py",
   "mimetype": "text/x-python",
   "name": "python",
   "nbconvert_exporter": "python",
   "pygments_lexer": "ipython3",
   "version": "3.11.5"
  }
 },
 "nbformat": 4,
 "nbformat_minor": 5
}
